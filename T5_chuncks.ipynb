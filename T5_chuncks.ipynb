{
  "nbformat": 4,
  "nbformat_minor": 0,
  "metadata": {
    "colab": {
      "provenance": [],
      "authorship_tag": "ABX9TyNvwVRoKCJJ7wHFexLrYwMD",
      "include_colab_link": true
    },
    "kernelspec": {
      "name": "python3",
      "display_name": "Python 3"
    },
    "language_info": {
      "name": "python"
    }
  },
  "cells": [
    {
      "cell_type": "markdown",
      "metadata": {
        "id": "view-in-github",
        "colab_type": "text"
      },
      "source": [
        "<a href=\"https://colab.research.google.com/github/nirajmatere/ML-Model/blob/main/T5_chuncks.ipynb\" target=\"_parent\"><img src=\"https://colab.research.google.com/assets/colab-badge.svg\" alt=\"Open In Colab\"/></a>"
      ]
    },
    {
      "cell_type": "code",
      "source": [
        "# !pip install transformers\n"
      ],
      "metadata": {
        "id": "nzYJkpoeva4f"
      },
      "execution_count": 1,
      "outputs": []
    },
    {
      "cell_type": "code",
      "execution_count": 2,
      "metadata": {
        "id": "IBqtYsnnugQn"
      },
      "outputs": [],
      "source": [
        "import pandas as pd\n",
        "from transformers import pipeline, AutoTokenizer, AutoModelForSeq2SeqLM"
      ]
    },
    {
      "cell_type": "code",
      "source": [
        "# from google.colab import files\n",
        "# uploaded = files.upload()"
      ],
      "metadata": {
        "id": "2QOi726iuitN"
      },
      "execution_count": 3,
      "outputs": []
    },
    {
      "cell_type": "code",
      "source": [
        "\n",
        "# Load the CSV file containing ball by ball commentary\n",
        "df = pd.read_csv('723831_byballComm.csv')\n"
      ],
      "metadata": {
        "id": "m6b_fLbxulHv"
      },
      "execution_count": 4,
      "outputs": []
    },
    {
      "cell_type": "code",
      "source": [
        "# Load the model and tokenizer\n",
        "model_name = \"t5-base\"\n",
        "tokenizer = AutoTokenizer.from_pretrained(model_name, model_max_length=1024)\n",
        "model = AutoModelForSeq2SeqLM.from_pretrained(model_name)\n"
      ],
      "metadata": {
        "id": "1ACIRnkYyNd9"
      },
      "execution_count": 5,
      "outputs": []
    },
    {
      "cell_type": "code",
      "source": [
        "# Set the maximum length for the input sequence and summary\n",
        "max_chunk_length = 1024\n",
        "max_summary_length = 150\n",
        "\n",
        "# Load the input data\n",
        "df = pd.read_csv(\"723831_byballComm.csv\")\n"
      ],
      "metadata": {
        "id": "uXdKHcfJ0odP"
      },
      "execution_count": 6,
      "outputs": []
    },
    {
      "cell_type": "code",
      "source": [
        "# Concatenate all the commentary into a single string\n",
        "commentary = \" \".join(df[\"T\"].values)\n",
        "\n",
        "# Break the input sequence into chunks of 1024 tokens\n",
        "chunks = [commentary[i:i+max_chunk_length] for i in range(0, len(commentary), max_chunk_length)]\n"
      ],
      "metadata": {
        "id": "j4i_18wd0sU1"
      },
      "execution_count": 8,
      "outputs": []
    },
    {
      "cell_type": "code",
      "source": [
        "# Generate summaries for each chunk and combine them\n",
        "summary = \"\"\n",
        "for chunk in chunks:\n",
        "    input_ids = tokenizer.encode(chunk, return_tensors=\"pt\")\n",
        "    output = model.generate(input_ids=input_ids, max_length=max_summary_length, num_beams=4, early_stopping=True)\n",
        "    summary += tokenizer.decode(output[0], skip_special_tokens=True) + \" \"\n"
      ],
      "metadata": {
        "id": "i1E0HQrH0vza"
      },
      "execution_count": 9,
      "outputs": []
    },
    {
      "cell_type": "code",
      "source": [
        "\n",
        "# Print the summary\n",
        "print(\"Summary of the match: \", summary)\n"
      ],
      "metadata": {
        "colab": {
          "base_uri": "https://localhost:8080/"
        },
        "id": "C8EuzjTTyXxg",
        "outputId": "f263f75d-3461-4881-b3e8-6db64df04d04"
      },
      "execution_count": 10,
      "outputs": [
        {
          "output_type": "stream",
          "name": "stdout",
          "text": [
            "Summary of the match:  a winless campaign. The young Victorian team have exceeded expectations and are in good position to secure a place in the final. OUT! Caught. Mitchell Perry to Kurtis Patterson. Length ball, defending, missed for no runs, fielded by Harper. Mitchell Perry to Kurtis Patterson. Length ball, shoulders arms, for no runs, fielded by Harper. OUT! Caught. Mitchell Perry to Kurtis Patterson. Length ball, defending, missed for no runs . Over 2. 1 run. Bowler: Mitchell Perry. New South Wales: 0/1(rr 0.50) Mitchell Perry to Daniel Hughes. Length ball, defending, Played to short extra cover for no runs. Mitchell Perry to Daniel Hughes. Length ball, glancing, Edged to gully for no runs. Mitchell Perry to Daniel Hughes. Length ball, defending, Played to short extra cover for no runs. Mitchell Perry to Daniel Hughes. Length ball,  Mitchell Perry to Kurtis Patterson. Back of a length, Leave, for no runs, fielded by Harper. Fergus O'Neill to Kurtis Patterson. Back of a length, Leave, for no runs, fielded by Harper. Mitchell Perry to Daniel Hughes. Length ball, defending, Played to extra cover for no runs. Over 4. no runs. Bowler: Mitchell Perry. New South Wales: 1/1(rr 0.25) APPEAL! Mitchell Perry to Daniel . Mitchell Perry to Daniel Hughes. Length ball, defending, Played to silly mid off for no runs. Mitchell Perry to Daniel Hughes. Length ball, defending, Played to silly mid off for no runs. Mitchell Perry to Daniel Hughes. Mitchell Perry to Daniel Hughes. Length ball, defending, Played to silly mid off for no runs. Fergus O'Neill to Kurtis Patterson. Length ball, shoulders arms, for no runs, fielded by Harper. Daniel Hughes. Length ball, glancing, hit pad to short leg for no runs. Over 6. no runs. Bowler: Mitchell Perry. New South Wales: 3/1(rr 0.43) Fergus O'Neill to Kurtis Patterson. Length ball, shoulders arms, for no runs, fielded by Harper. Mitchell Perry to Daniel Hughes. Length ball, working, Played to short leg for no runs. Mitchell Perry to Daniel Hughes. Length ball, glancing, Fergus O'Neill to Moises Henriques. Half volley, driving, Edged to square leg for 2 runs, dropped catch by Chandrasinghe. Over 8. 4 runs. Bowler: Fergus O'Neill. New South Wales: 7/2(rr 0.88) Mitchell Perry to Daniel Hughes. Length ball, defending, Played to extra cover for no runs. Mitchell Perry to Daniel Hughes. Length ball, defending, Played to point for no runs silly point for no runs. Fergus O'Neill to Daniel Hughes. Length ball, defending, Edged to silly point for no runs. Fergus O'Neill to Daniel Hughes. Length ball, defending, Edged to silly point for no runs. Fergus O'Neill to Daniel Hughes. Length ball, defending, Edged to silly point for no runs. Mitchell Perry to Moises Henriques. Half volley, driving, missed for no runs, fielded . Mitchell Perry to Daniel Hughes. Length ball, defending, Played to short mid wicket for no runs. Over 11. no runs. Mitchell Perry to Daniel Hughes. Length ball, defending, Played to short extra cover for no runs. Mitchell Perry to Daniel Hughes. Length ball, defending, Played to short mid wicket for no runs. Mitchell Perry to Daniel Hughes. Length ball, defending, Played to short extra cover for no runs. Mitchell Perry to Daniel Hughes. Will Sutherland. Half volley, Leave, for no runs, fielded by Harper. Over 13. 4 runs. Bowler: Will Sutherland. New South Wales: 17/2(rr 1.31) Fergus O'Neill to Moises Henriques. Length ball, defending, Played to short extra cover for no runs. Fergus O'Neill to Moises Henriques. Length ball, glancing, Missed (Leg Side) for Daniel Hughes. Half volley, driving, Hit Hard past long on for 4 runs. Will Sutherland to Daniel Hughes. Length ball, defending, Played to mid on for no runs. Will Sutherland to Daniel Hughes. Length ball, glancing, Missed (Leg Side) for no runs. Fergus O'Neill to Moises Henriques. Length ball, flick, Played to backward square leg for 2 runs. Fergus O' Harper. Fergus O'Neill to Moises Henriques. Length ball, shoulders arms, for no runs, fielded by Harper. Over 16. 2 runs. Bowler: Fergus O'Neill. New South Wales: 25/2(rr 1.56) Will Sutherland to Daniel Hughes. Half volley, driving, missed for no runs, fielded by Harper. Will Sutherland to Daniel Hughes. Length ball, defending, Played to mid off for no runs. Cameron McClure to Moises Henriques. Length ball, Leave, for no runs, fielded by Harper. New South Wales: 29/2(rr 1.61) FOUR! Cameron McClure to Moises Henriques. Back of a length, cutting, Mis-timed to mid off for no runs. Cameron McClure to Moises Henriques. Length ball, Leave, for no runs, fielded by Harper. Will Sutherland to Daniel Hughes. no runs. Cameron McClure to Daniel Hughes. Length ball, defending, Played to short leg for no runs. Cameron McClure to Daniel Hughes. Length ball, defending, Played to short leg for no runs. Cameron McClure to Daniel Hughes. Length ball, defending, Played to short leg for no runs. Cameron McClure to Daniel Hughes. Length ball, defending, Played to short leg for no runs. Cameron McClure to . Will Sutherland to Moises Henriques. Length ball, defending, Played to backward point for no runs. New South Wales: 35/2(rr 1.67) Cameron McClure to Daniel Hughes. Half volley, driving, hit pad to third slip for no runs. Cameron McClure to Daniel Hughes. Length ball, defending, Played to backward point for no runs. New South Wales: 35/2(rr 1.67) Cameron McClure to . Over 22. 1 run. Bowler: Cameron McClure. New South Wales: 36/2(rr 1.64) Cameron McClure to Moises Henriques. Half volley, driving, Played to mid off for no runs. Will Sutherland to Moises Henriques. Length ball, driving, Played to mid off for no runs. Over 23. 3 runs. Bowler: Cameron McClure. New South Wales: 36/2(rr 1.64) Cameron Cameron McClure to Moises Henriques. Back of a length, working, Played to mid off for no runs. Over 24. 3 runs. Bowler: Mitchell Perry. New South Wales: 42/2(rr 1.75) Mitchell Perry to Moises Henriques. Length ball, driving, Played to mid off for no runs. Mitchell Perry to Moises Henriques. Length ball, driving, Played to mid off for no runs. Mitchell Perry to Moi Cameron McClure to Oliver Davies. Back of a length, defending, Played to short extra cover for 2 runs. Over 26. 3 runs. Bowler: Cameron McClure. New South Wales: 45/3(rr 1.73) Mitchell Perry to Daniel Hughes. Length ball, defending, Played to short extra cover for no runs. Mitchell Perry to Daniel Hughes. Short, pulling, missed for no runs, fielded by Harper. Mitchell Perry to Daniel Hughes. Length ball,  FOUR! Mitchell Perry to Daniel Hughes. Back of a length, dropped, Played to silly point for no runs. New South Wales: 46/3(rr 1.70) APPEAL! Mitchell Perry to Daniel Hughes. Length ball, flick, hit pad for no runs, appeal made for L.B.W. Mitchell Perry to Daniel Hughes. Length ball, flick, hit pad for no runs, appeal made for L.B.W. Mitchell Perry to Daniel Hughes. Length ball, flick . Mitchell Perry to Oliver Davies. Back of a length, cutting, Played to deep point for 2 runs. Mitchell Perry to Oliver Davies. Back of a length, cutting, Played to deep point for 2 runs. Mitchell Perry to Oliver Davies. Length ball, defending, Played to short extra cover for no runs. New South Wales: 56/3(rr 1.93) Fergus O'Neill to Daniel Hughes. Half volley, driving, Played to mid off for no runs Will Sutherland. Length ball, defending, missed for no runs, fielded by Harper. Will Sutherland to Oliver Davies. Length ball, defending, mis-timed to square leg for no runs. Over 31. 4 runs. Bowler: Fergus O'Neill. New South Wales: 58/3(rr 1.93) Fergus O'Neill to Daniel Hughes. Half volley, driving, Hit Hard past long off for 4 runs. Over 31. 4 runs. Fergus O'Neill to Oliver Davies. Back of a length, defending, missed for no runs, fielded by Harper. Will Sutherland to Oliver Davies. Length ball, defending, Played to square leg for 2 runs. Over 33. 7 runs. Bowler: Fergus O'Neill. New South Wales: 68/3(rr 2.12) Fergus O'Neill to Oliver Davies. Back of a length, working, Played to square leg for no runs . Fergus O'Neill to Matthew Gilkes. Back of a length, defending, Played to point for no runs. Over 34. 2 runs. Bowler: Fergus O'Neill. New South Wales: 77/3(rr 2.26) Will Sutherland to Matthew Gilkes. Half volley, Leave, for no runs, fielded by Harper. Will Sutherland to Matthew Gilkes. Length ball, glancing, Played to fine leg for 1 run Oliver Davies. Back of a length, cutting, Late Cut, Hit Hard to deep square leg for 3 runs. Over 35. 6 runs. Bowler: Fergus O'Neill. New South Wales: 87/3(rr 2.42) Will Sutherland to Matthew Gilkes. Length ball, shoulders arms, for no runs, fielded by Harper. Will Sutherland to Matthew Gilkes. Length ball, shoulders arms, for no runs, fielded by Harper. Will Sutherland to Will Sutherland. Length ball, driving, Played to mid off for no runs. Will Sutherland to Oliver Davies. Length ball, driving, Played to mid off for no runs. Will Sutherland to Oliver Davies. Length ball, driving, Played to mid off for no runs. Will Sutherland to Oliver Davies. Length ball, driving, Played to mid off for no runs. Matt Short to Jack Edwards. Length ball, driving, Play Mitchell Perry. Length ball, defending, Played back to bowler for no runs. Mitchell Perry. New South Wales: 93/5(rr 2.38) Cameron McClure to Chris Green. Length ball, working, Played to mid off for no runs. Mitchell Perry. Back of a length, working, Played to mid wicket for no runs. Mitchell Perry to Jack Edwards. Back of a length, working, Played to mid wicket for no runs. Mitchell Perry to Jack Edwards. Back of a length, working, Played to mid wicket for no runs. Cameron McClure to Chris Green. Back of a length, defending, Played back to bowler for no runs. Cameron McClure to Chris Green. Back of a length 1 run. Cameron McClure to Chris Green. Back of a length, pushing, Played to short mid wicket for no runs. Cameron McClure to Chris Green. Back of a length, pushing, Played to short mid wicket for no runs. Mitchell Perry to Chris Green. Back of a length, Steer, Played to third man for no runs. Mitchell Perry to Chris Green. Back of a length, pushing, Played to mid wicket for no runs. Mitchell Perry to Chris Green. Jack Edwards. Length ball, working, Played to mid wicket for no runs. Jon Holland to Jack Edwards. Length ball, defending, Played to short extra cover for no runs. Mitchell Perry to Chris Green. Length ball, defending, Played to point for no runs. Mitchell Perry to Chris Green. Length ball, defending, Played to short extra cover for no runs. Mitchell Perry to Chris Green. Length ball, defending, Played . Mitchell Perry. New South Wales: 98/5(rr 2.18) Jon Holland to Chris Green. Half volley, driving, Hit Hard to cover for no runs. Jon Holland to Chris Green. Length ball, defending, Played to extra cover for no runs. Jon Holland to Chris Green. Length ball, pushing, Played to cover for no runs. Jon Holland to Chris Green. Length ball, pushing, Played to cover for no runs. Mitchell Perry. New South Wales 2 runs. Bowler: Jon Holland. New South Wales: 98/5(rr 2.09) Cameron McClure to Jack Edwards. Back of a length, defending, Played to silly point for no runs. Jon Holland to Chris Green. Length ball, driving, Played to silly point for no runs. Jon Holland to Chris Green. Length ball, defending, Played to silly point for no runs. Over 48. 2 runs. Bowler: Jon Holland. New South Wales: Cameron McClure to Jack Edwards. Back of a length, cutting, Hit Hard to point for no runs. Cameron McClure to Jack Edwards. Back of a length, cutting, Hit Hard to point for no runs. Cameron McClure to Jack Edwards. Length ball, defending, Played to extra cover for no runs. Jon Holland to Chris Green. Length ball, defending, Played to extra cover for no runs. Jon Holland to Chris Green. Length ball, Chris Green. Back of a length, defending, Played to short extra cover for no runs. Over 51. 5 runs. Bowler: Cameron McClure. New South Wales: 104/5(rr 2.08) Jon Holland to Jack Edwards. Back of a length, defending, Played to silly point for no runs. Jon Holland to Jack Edwards. Length ball, defending, Played to silly point for no runs. Jon Holland to Jack Edwards. Length ball, Over 52. no runs. Bowler: Jon Holland. New South Wales: 109/5(rr 2.10) Cameron McClure to Chris Green. Length ball, flick, Played to mid on for no runs. Jon Holland to Jack Edwards. Length ball, defending, Played to extra cover for no runs. Over 53. 5 runs. Bowler: Cameron McClure. New South Wales: 114/5(rr 2.10) Jon Holland to Chris Green. Length ball, flick no runs. Jon Holland to Chris Green. Half volley, driving, Played to gully for no runs. Jon Holland to Chris Green. Half volley, driving, Played to square leg for no runs. Fergus O'Neill to Chris Green. Back of a length, pushing, Played to mid off for no runs. Fergus O'Neill to Chris Green. Back of a length, working, Played to square leg for no runs. Fergus O'Neill Jack Edwards. Back of a length, cutting, Edged to third man for 2 runs. Jon Holland to Chris Green. Back of a length, cutting, Played to square leg for no runs. Jon Holland to Chris Green. Length ball, defending, Played to short mid wicket for no runs. Fergus O'Neill to Jack Edwards. Length ball, defending, Played to short mid wicket for no runs. Fergus O'Neill to Jack Edwards. Le OUT! Caught. Fergus O'Neill to Jack Edwards. Back of a length, defending, Played to silly point for no runs. Jon Holland to Hayden Kerr. Half volley, driving, Played to silly point for no runs. Jon Holland to Hayden Kerr. Back of a length, cutting, Played to silly point for no runs. Jon Holland to Jack Edwards. Back of a length, defending, Played to silly point for no runs Fergus O'Neill to Chris Green. Length ball, defending, Played to mid off for no runs. Fergus O'Neill to Chris Green. Length ball, defending, Played to silly point for no runs. Over 59. 2 runs. Bowler: Fergus O'Neill. New South Wales: 121/6(rr 2.05) Jon Holland to Hayden Kerr. Half volley, driving, Played to silly point for no runs. Over 61. no runs. Bowler: Fergus O'Neill. New South Wales: 121/6(rr 1.98) Jon Holland to Hayden Kerr. Half volley, driving, Played to silly point for no runs. Jon Holland to Hayden Kerr. Length ball, driving, Played to mid off for no runs. Jon Holland to Hayden Kerr. Length ball, working, Played to silly point for no runs. Jon Holland to Hayden Kerr Fergus O'Neill. New South Wales: 121/6(rr 2.02) Fergus O'Neill to Chris Green. Length ball, driving, Played to silly point for no runs. Fergus O'Neill to Chris Green. Length ball, defending, Played to silly point for no runs. Jon Holland to Hayden Kerr. Length ball, pushing, Played to silly point for no runs. Jon Holland to Hayden Kerr. Length ball, Harper. Fergus O'Neill to Chris Green. Length ball, driving, Played to mid on for no runs. Over 64. 1 run. Bowler: Fergus O'Neill. New South Wales: 129/6(rr 1.98) Jon Holland to Hayden Kerr. Back of a length, Cutting, Hit Hard to deep point for 1 run. Jon Holland to Chris Green. Length ball, driving, Played to mid on for no runs. Fergus O'Neill FOUR! Fergus O'Neill to Hayden Kerr. Length ball, defending, Played to silly mid off for no runs. Over 66. 3 runs. Jon Holland. Length ball, defending, Played to deep point for no runs. Over 68. 1 run. Bowler: Fergus O'Neill. New South Wales: 137/7(rr 2.03) Fergus O'Neill to Chris Green. Length ball, driving, Played to mid on for 4 runs. Fergus O'Neill to Chris Green. Half volley, flick, Hit Hard past long on for 4 runs. Fergus O'Neill to Chris Green Jon Holland. Half volley, defending, Played to square leg for no runs. Over 69. 6 runs. Bowler: Fergus O'Neill. New South Wales: 143/7(rr 2.07) Jon Holland to Trent Copeland. Length ball, defending, Played to extra cover for no runs. Will Sutherland to Chris Green. Length ball, defending, Played to extra cover for no runs. Will Sutherland to Chris Green. Leng Will Sutherland. Half volley, Leave, for no runs, fielded by Harper. Will Sutherland to Chris Green. Half volley, Leave, for no runs, fielded by Harper. Will Sutherland to Chris Green. Half volley, Leave, for no runs, fielded by Harper. Jon Holland to Trent Copeland. Length ball, defending, Played to backward point for no runs. Jon Holland to Trent Copeland. Length ball, . Will Sutherland to Chris Green. Length ball, driving, Hit Hard to deep cover for 2 runs, run save by Chandrasinghe. Will Sutherland to Chris Green. Length ball, defending, Played to point for no runs. New South Wales: 149/7(rr 2.04) Jon Holland to Trent Copeland. Length ball, flick, Missed (Leg Side) past fine leg for no runs, fielded by Harper. Jon Holland to Trent Co . Will Sutherland to Chris Green. Length ball, driving, mis-timed in the air uncontrolled to long on for 3 runs, run save by Harris. Over 74. 4 runs. Bowler: Jon Holland. New South Wales: 153/7(rr 2.07) APPEAL! Will Sutherland to Chris Green. Length ball, driving, Mis-timed in the air uncontrolled to long on for 3 runs. Will Sutherland to Chris Green. Length ball, working . Yorker, defending, Played back to bowler for no runs. Jon Holland to Trent Copeland. Length ball, defending, Played to short extra cover for no runs. Will Sutherland to Trent Copeland. Length ball, flick, Mis-timed to deep backward square leg for 2 runs. Will Sutherland to Trent Copeland. Length ball, flick, Mis-timed to deep backward square leg for 2 runs. Will Sutherland to Will Sutherland. New South Wales: 171/7(rr 2.22) Jon Holland to Trent Copeland. Half volley, driving, Played to backward square leg for 1 run. Over 78. 12 runs. Bowler: Will Sutherland. New South Wales: 177/7(rr 2.22) Matt Short to Chris Green. Length ball, driving, Hit Hard in the air under control past deep mid wicket for 6 runs. Matt Short to Chris Green. Length ball, . Matt Short to Trent Copeland. Length ball, flick, Played to mid on for 2 runs. Over 79. 9 runs. Bowler: Matt Short. New South Wales: 186/7(rr 2.35) Jon Holland to Trent Copeland. Length ball, Steer, Played to mid on for 1 run. Mitchell Perry to Chris Green. Half volley, flick, Hit Hard past deep bac. Mitchell Perry to Chris Green. Half volley, flick, Hit Liam Hatcher. Length ball, defending, Edged to gully for no runs. Over 81. 4 runs. New South Wales: 193/8(rr 2.38) Fergus O'Neill to Trent Copeland. Length ball, glancing, Missed (Leg Side) for no runs, fielded by Harper. Fergus O'Neill to Trent Copeland. Length ball, driving, Hit Hard past deep point for 4 runs. FOUR d in the air under control past deep square leg for 4 runs. Fergus O'Neill to Trent Copeland. Back of a length, defending, Played to point for no runs. Over 82. 8 runs. Bowler: Mitchell Perry. New South Wales: 201/8(rr 2.45) Mitchell Perry to Liam Hatcher. Length ball, driving, Played to point for no runs. Mitchell Perry to Liam Hatcher. Length ball, driving, Playe \n"
          ]
        }
      ]
    }
  ]
}